{
 "cells": [
  {
   "cell_type": "code",
   "execution_count": null,
   "id": "6a7a1817",
   "metadata": {},
   "outputs": [],
   "source": [
    "'''\n",
    "1. What does an empty dictionary's code look like?\n",
    "\n",
    "Ans: {}\n",
    "\n",
    "'''\n"
   ]
  },
  {
   "cell_type": "code",
   "execution_count": null,
   "id": "0ec5f7b9",
   "metadata": {},
   "outputs": [],
   "source": [
    "'''\n",
    "\n",
    "2. What is the value of a dictionary value with the key 'foo' and the value 42?\n",
    "\n",
    "Ans: {'foo':42}\n",
    "\n",
    "'''\n"
   ]
  },
  {
   "cell_type": "code",
   "execution_count": null,
   "id": "3decf5a1",
   "metadata": {},
   "outputs": [],
   "source": [
    "'''\n",
    "\n",
    "3. What is the most significant distinction between a dictionary and a list?\n",
    "\n",
    "Ans:\n",
    "1.Values stored in Dictionary are not in order\n",
    "whereas Values stored in List are in order\n",
    "\n",
    "2.Dictionary is the collection of Key-Value Pair\n",
    "whereas List is the collection of heterogenious values or different data types\n",
    "\n",
    "'''\n"
   ]
  },
  {
   "cell_type": "code",
   "execution_count": null,
   "id": "8ffe30e2",
   "metadata": {},
   "outputs": [],
   "source": [
    "'''\n",
    "\n",
    "4. What happens if you try to access spam['foo'] if spam is {'bar': 100}?\n",
    "\n",
    "Ans:\n",
    "There will be a 'Key Error'\n",
    "\n",
    "'''\n"
   ]
  },
  {
   "cell_type": "code",
   "execution_count": null,
   "id": "d737d728",
   "metadata": {},
   "outputs": [],
   "source": [
    "'''\n",
    "5. If a dictionary is stored in spam, what is the difference between the expressions 'cat' in spam and 'cat' in spam.keys()?\n",
    "\n",
    "Ans:\n",
    "There is not difference as such in both expressions, both will return 'True' (if 'cat' is in spam)\n",
    "'''\n"
   ]
  },
  {
   "cell_type": "code",
   "execution_count": null,
   "id": "2869e7fe",
   "metadata": {},
   "outputs": [],
   "source": [
    "'''\n",
    "\n",
    "6. If a dictionary is stored in spam, what is the difference between the expressions 'cat' in spam and 'cat' in spam.values()?\n",
    "\n",
    "Ans:\n",
    "'cat' in spam will check if there is any Key naming 'cat' in dictionary\n",
    "whereas 'cat' in spam.values() will check if there is any value naming'cat in the dictionay for any key\n",
    "'''\n"
   ]
  },
  {
   "cell_type": "code",
   "execution_count": null,
   "id": "d5b3eb7c",
   "metadata": {},
   "outputs": [],
   "source": [
    "'''\n",
    "7. What is a shortcut for the following code?\n",
    "if 'color' not in spam:\n",
    "spam['color'] = 'black'\n",
    "\n",
    "Ans:\n",
    "\n",
    "spam['color'] = 'black'\n",
    "\n",
    "\n",
    "'''\n"
   ]
  },
  {
   "cell_type": "code",
   "execution_count": null,
   "id": "9cb7e6bc",
   "metadata": {},
   "outputs": [],
   "source": [
    "'''\n",
    "\n",
    "8. How do you \"pretty print\" dictionary values using which module and function?\n",
    "\n",
    "Ans:\n",
    "\n",
    "we can use pprint function from pprint module (Below is the example of the same)\n",
    "'''\n"
   ]
  },
  {
   "cell_type": "code",
   "execution_count": 14,
   "id": "9ddb5788",
   "metadata": {},
   "outputs": [],
   "source": [
    "d={'a':{'aa':{'aaa':1},'ab':2,'ac':3},'b':{'ba':{'bbb':1},'bb':2,'bc':3},'c':{'ca':{'ccc':1},'cb':2,'cc':3}}"
   ]
  },
  {
   "cell_type": "code",
   "execution_count": 16,
   "id": "a0b9a281",
   "metadata": {},
   "outputs": [],
   "source": [
    "from pprint import pprint"
   ]
  },
  {
   "cell_type": "code",
   "execution_count": 24,
   "id": "69d74907",
   "metadata": {},
   "outputs": [
    {
     "name": "stdout",
     "output_type": "stream",
     "text": [
      "Simple Print: \n",
      "\n",
      "\n",
      " {'a': {'aa': {'aaa': 1}, 'ab': 2, 'ac': 3}, 'b': {'ba': {'bbb': 1}, 'bb': 2, 'bc': 3}, 'c': {'ca': {'ccc': 1}, 'cb': 2, 'cc': 3}}\n"
     ]
    }
   ],
   "source": [
    "print(\"Simple Print: \\n\\n\\n\", d)"
   ]
  },
  {
   "cell_type": "code",
   "execution_count": 26,
   "id": "5980af2f",
   "metadata": {},
   "outputs": [
    {
     "name": "stdout",
     "output_type": "stream",
     "text": [
      "{'a': {'aa': {'aaa': 1}, 'ab': 2, 'ac': 3},\n",
      " 'b': {'ba': {'bbb': 1}, 'bb': 2, 'bc': 3},\n",
      " 'c': {'ca': {'ccc': 1}, 'cb': 2, 'cc': 3}}\n"
     ]
    }
   ],
   "source": [
    "pprint(d)"
   ]
  },
  {
   "cell_type": "code",
   "execution_count": null,
   "id": "48ed34c8",
   "metadata": {},
   "outputs": [],
   "source": []
  }
 ],
 "metadata": {
  "kernelspec": {
   "display_name": "Python 3 (ipykernel)",
   "language": "python",
   "name": "python3"
  },
  "language_info": {
   "codemirror_mode": {
    "name": "ipython",
    "version": 3
   },
   "file_extension": ".py",
   "mimetype": "text/x-python",
   "name": "python",
   "nbconvert_exporter": "python",
   "pygments_lexer": "ipython3",
   "version": "3.9.7"
  }
 },
 "nbformat": 4,
 "nbformat_minor": 5
}

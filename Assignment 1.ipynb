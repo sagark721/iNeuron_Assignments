{
 "cells": [
  {
   "cell_type": "markdown",
   "id": "cf5ae3b2",
   "metadata": {},
   "source": [
    "Q1. In the below elements which of them are values or an expression? eg:- values can be integer or string and expressions will be mathematical operators.\n",
    "\n",
    "* \n",
    "'hello'\n",
    "-87.8\n",
    "- \n",
    "/ \n",
    "+\t\n",
    "6 \n",
    "\n",
    "\n",
    "\n",
    "A1.\n",
    "\n",
    "*       |-------------> Expression\n",
    "'hello' |-------------> Value\n",
    "-87.8   |-------------> Value\n",
    "-       |-------------> Expression\n",
    "/       |-------------> Expression\n",
    "+\t    |-------------> Expression\n",
    "6       |-------------> Value"
   ]
  },
  {
   "cell_type": "markdown",
   "id": "cd376a0b",
   "metadata": {},
   "source": [
    "Q2. What is the difference between string and variable?\n",
    "\n",
    "\n",
    "A2. 'String' is the datatype which is combination of unicode characters or combination of words withing quotes (single, double or triple quotes) , whereas 'Variable' is basically a name assigned to memory location of any datatype."
   ]
  },
  {
   "cell_type": "markdown",
   "id": "f4292481",
   "metadata": {},
   "source": [
    "Q3. Describe three different data types.\n",
    "\n",
    "A3. Data types are as follows\n",
    "a1. String \n",
    "'String' is the datatype which is combination of unicode characters or combination of words withing quotes (single, double or triple quotes)\n",
    "eg. \"iNeuron\"\n",
    "\n",
    "a2. Integer\n",
    "Integer is numeric value without decimal point.\n",
    "eg. 721\n",
    "\n",
    "a3. Float\n",
    "Float is the real numeric value with decimal point in it.\n",
    "eg. 21.21"
   ]
  },
  {
   "cell_type": "markdown",
   "id": "77c0d572",
   "metadata": {},
   "source": [
    "Q4. What is an expression made up of? \n",
    "\n",
    "A4. Expression is made up of 'Operators' (i.e Arithmatic operators such as '+','-','*', or Comparison Operators such as '>','=','<' ) and 'Operands' (i.e which are values or variables on which the operator work ) \n",
    "\n",
    "eg. 121 + 325 \n",
    "here '121' & '325' is operand and '+' is operator\n",
    "\n",
    "What do all expressions do?\n",
    "Operator in expression operates on operand to interprete or evaluate new value.\n",
    "Expressions gives us evaluation. expressions compares operands. "
   ]
  },
  {
   "cell_type": "markdown",
   "id": "a53fc434",
   "metadata": {},
   "source": [
    "Q5. This assignment statements, like spam = 10. What is the difference between an expression and a statement?\n",
    "\n",
    "A5. (Didn't get the meaning of \"This assignment statements, like spam = 10\")\n",
    "The difference between expression and statement is as follows\n",
    "Expression evaluates the values \n",
    "eg.  1 + 2\n",
    "\n",
    "Statement executes the given task \n",
    "eg. print (\"Hello World\") | Output : Hello World\n",
    "\n",
    "\n"
   ]
  },
  {
   "cell_type": "markdown",
   "id": "8ae4a122",
   "metadata": {},
   "source": [
    "Q6. After running the following code, what does the variable bacon contain?\n",
    "bacon = 22\n",
    "bacon + 1\n",
    "\n",
    "A6. the variable bacon contains value 22"
   ]
  },
  {
   "cell_type": "markdown",
   "id": "820a21a6",
   "metadata": {},
   "source": [
    "Q7. What should the values of the following two terms be?\n",
    "'spam' + 'spamspam'\n",
    "'spam' * 3\n",
    "\n",
    "A7.\n",
    "'spam' + 'spamspam' |-------------> 'spamspamspam'\n",
    "'spam' * 3          |-------------> 'spamspamspam'\n"
   ]
  },
  {
   "cell_type": "markdown",
   "id": "b7914670",
   "metadata": {},
   "source": [
    "Q8. Why is eggs a valid variable name while 100 is invalid?\n",
    "\n",
    "A8. As per one of the Rules for Python variables that, \"A variable name must start with a letter or the underscore character\" the 'egg' satisfies this condition, therefore its is Valid variable name and another rule, \"A variable name cannot start with a number\" and 100 being number, The 100 is invalid variable name."
   ]
  },
  {
   "cell_type": "markdown",
   "id": "e17e8d5f",
   "metadata": {},
   "source": [
    "Q9. What three functions can be used to get the integer, floating-point number, or string version of a value?\n",
    "\n",
    "A9. \n",
    "eg. x=10\n",
    "for integer                   |-------------> int_x = int(x)\n",
    "for floating-point number     |-------------> flt_x = float(x)\n",
    "for string                    |-------------> str_x = str(x)"
   ]
  },
  {
   "cell_type": "markdown",
   "id": "02386b89",
   "metadata": {},
   "source": [
    "Q10. Why does this expression cause an error? How can you fix it?\n",
    "'I have eaten ' + 99 + ' burritos.'\n",
    "\n",
    "A10. Above expression causing an error as we cannot add strings and integers. To fix this we need to put 99 into quotes (i.e '99')\n",
    "below expression would not cause an error:\n",
    "'I have eaten ' + '99' + ' burritos.'"
   ]
  },
  {
   "cell_type": "code",
   "execution_count": null,
   "id": "739b4f46",
   "metadata": {},
   "outputs": [],
   "source": []
  }
 ],
 "metadata": {
  "kernelspec": {
   "display_name": "Python 3 (ipykernel)",
   "language": "python",
   "name": "python3"
  },
  "language_info": {
   "codemirror_mode": {
    "name": "ipython",
    "version": 3
   },
   "file_extension": ".py",
   "mimetype": "text/x-python",
   "name": "python",
   "nbconvert_exporter": "python",
   "pygments_lexer": "ipython3",
   "version": "3.9.7"
  }
 },
 "nbformat": 4,
 "nbformat_minor": 5
}

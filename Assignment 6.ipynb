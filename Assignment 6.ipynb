{
 "cells": [
  {
   "cell_type": "code",
   "execution_count": null,
   "id": "1b89c3b2",
   "metadata": {},
   "outputs": [],
   "source": [
    "'''\n",
    "1. What are escape characters, and how do you use them?\n",
    "\n",
    "Ans:\n",
    "\n",
    "Escape characters are the characters which are used in the string when we want to insert the string which are \n",
    "not allowed by the python\n",
    "\n",
    "escape characters are:\n",
    "\\' -> for Single Quote\n",
    "\\\\ -> for Backslash\n",
    "\\n -> for New Line\n",
    "\\r -> for Carriage Return\n",
    "\\t -> for Tab\n",
    "\\b -> for Backspace\n",
    "\n",
    "\n",
    "Eg. \n",
    "\n",
    "suppose our desired output is - Hello World I am student of \"FSDS\" in iNeuron \n",
    "\n",
    "below code will throw an error\n",
    "print(\"Hello World I am student of \"FSDS\" in iNeuron \")\n",
    "\n",
    "\n",
    "but, if we use escape character i.e \\\n",
    "print(\"Hello World I am student of \\\"FSDS\\\" in iNeuron \")\n",
    "this will print our desired output\n",
    "\n",
    "\n",
    "\n",
    "'''"
   ]
  },
  {
   "cell_type": "code",
   "execution_count": null,
   "id": "3d17ee02",
   "metadata": {},
   "outputs": [],
   "source": [
    "'''\n",
    "2. What do the escape characters n and t stand for?\n",
    "Ans:\n",
    "As described above:\n",
    "\n",
    "\\n stands for New Line\n",
    "\\t stands for for Tab\n",
    "\n",
    "\n",
    "'''"
   ]
  },
  {
   "cell_type": "code",
   "execution_count": null,
   "id": "f825e015",
   "metadata": {},
   "outputs": [],
   "source": [
    "'''\n",
    "3. What is the way to include backslash characters in a string?\n",
    "\n",
    "Ans:\n",
    "\n",
    "Use double backslash\n",
    "Eg:\n",
    " \n",
    "print(\"iNearon\\\\FSDS\")\n",
    "\n",
    "\n",
    "'''"
   ]
  },
  {
   "cell_type": "code",
   "execution_count": null,
   "id": "a24b1ff3",
   "metadata": {},
   "outputs": [],
   "source": [
    "'''\n",
    "4. The string \"Howl's Moving Castle\" is a correct value. Why isn't the single quote character in the word Howl's not escaped a problem?\n",
    "\n",
    "Ans:\n",
    "It is because the main (i.e total string) string was enclosed by \"Double Quotes\", \n",
    "If total string was enclosed by 'Single Quote' the word Howl's would have escaped a problem\n",
    "\n",
    "'''"
   ]
  },
  {
   "cell_type": "code",
   "execution_count": null,
   "id": "f7b5738f",
   "metadata": {},
   "outputs": [],
   "source": [
    "'''\n",
    "5. How do you write a string of newlines if you don't want to use the n character?\n",
    "\n",
    "Ans:\n",
    "By enclosing string in 3 single or double quotes we can  write a string of newlines without using n character\n",
    "Eg:  all these answers in this notebook\n",
    "\n",
    "\n",
    "'''"
   ]
  },
  {
   "cell_type": "code",
   "execution_count": null,
   "id": "a2a9e5a7",
   "metadata": {},
   "outputs": [],
   "source": [
    "'''\n",
    "6. What are the values of the given expressions?\n",
    "'Hello, world!'[1]\n",
    "'Hello, world!'[0:5]\n",
    "'Hello, world!'[:5]\n",
    "'Hello, world!'[3:]\n",
    "\n",
    "Ans:\n",
    "\n",
    "'Hello, world!'[1] -> 'e'\n",
    "'Hello, world!'[0:5] -> 'Hello'\n",
    "'Hello, world!'[:5] -> 'Hello'\n",
    "'Hello, world!'[3:] -> 'lo, world!'\n",
    "\n",
    "\n",
    "\n",
    "'''"
   ]
  },
  {
   "cell_type": "code",
   "execution_count": null,
   "id": "b9b3ea7d",
   "metadata": {},
   "outputs": [],
   "source": [
    "'''\n",
    "7. What are the values of the following expressions?\n",
    "'Hello'.upper()\n",
    "'Hello'.upper().isupper()\n",
    "'Hello'.upper().lower()\n",
    "\n",
    "Ans:\n",
    "\n",
    "'Hello'.upper() -> 'HELLO'\n",
    "'Hello'.upper().isupper() -> True\n",
    "'Hello'.upper().lower() -> 'hello'\n",
    "\n",
    "\n",
    "'''"
   ]
  },
  {
   "cell_type": "code",
   "execution_count": null,
   "id": "845b3b2e",
   "metadata": {},
   "outputs": [],
   "source": [
    "'''\n",
    "8. What are the values of the following expressions?\n",
    "'Remember, remember, the fifth of July.'.split()\n",
    "'-'.join('There can only one.'.split())\n",
    "\n",
    "\n",
    "Ans:\n",
    "\n",
    "'Remember, remember, the fifth of July.'.split()\n",
    "Output:\n",
    "['Remember,', 'remember,', 'the', 'fifth', 'of', 'July.']\n",
    "\n",
    "'-'.join('There can only one.'.split())\n",
    "Output:\n",
    "'There-can-only-one.'\n",
    "\n",
    "\n",
    "\n",
    "'''"
   ]
  },
  {
   "cell_type": "code",
   "execution_count": null,
   "id": "a8a0e802",
   "metadata": {},
   "outputs": [],
   "source": [
    "'''\n",
    "9. What are the methods for right-justifying, left-justifying, and centering a string?\n",
    "\n",
    "\n",
    "And:\n",
    "right-justifying, left-justifying, and centering a string are used to align the string as per requirements\n",
    "\n",
    "\n",
    "a. right-justifying will align string towards right according to the width specified and it will fill the \n",
    "blank space with if any character is provided\n",
    "\n",
    "\n",
    "b. similarly, left-justifying will align string towards left according to the width specified and it will \n",
    "fill the blank space with if any character is provided\n",
    "\n",
    "c. centering will center align the string according the the width provided\n",
    "\n",
    "Examples are given below:\n",
    "\n",
    "\n",
    "'''"
   ]
  },
  {
   "cell_type": "code",
   "execution_count": 43,
   "id": "cd33a07b",
   "metadata": {},
   "outputs": [
    {
     "name": "stdout",
     "output_type": "stream",
     "text": [
      "----------------------I am aspiring Data Scientist\n"
     ]
    }
   ],
   "source": [
    "#Right-Justifying\n",
    "\n",
    "sample_string = \"I am aspiring Data Scientist\"\n",
    "print(sample_string.rjust(50,'-'))\n"
   ]
  },
  {
   "cell_type": "code",
   "execution_count": 44,
   "id": "706af96a",
   "metadata": {},
   "outputs": [
    {
     "name": "stdout",
     "output_type": "stream",
     "text": [
      "I am aspiring Data Scientist----------------------\n"
     ]
    }
   ],
   "source": [
    "#Left-Justifying\n",
    "\n",
    "sample_string = \"I am aspiring Data Scientist\"\n",
    "print(sample_string.ljust(50,'-'))\n"
   ]
  },
  {
   "cell_type": "code",
   "execution_count": 45,
   "id": "1c9dd9d3",
   "metadata": {},
   "outputs": [
    {
     "name": "stdout",
     "output_type": "stream",
     "text": [
      "-----------I am aspiring Data Scientist-----------\n"
     ]
    }
   ],
   "source": [
    "#Centering\n",
    "\n",
    "#Right-Justifying\n",
    "\n",
    "sample_string = \"I am aspiring Data Scientist\"\n",
    "print(sample_string.center(50,'-'))\n"
   ]
  },
  {
   "cell_type": "code",
   "execution_count": null,
   "id": "c23c0a75",
   "metadata": {},
   "outputs": [],
   "source": [
    "'''\n",
    "10. What is the best way to remove whitespace characters from the start or end?\n",
    "\n",
    "by using .strip() function we can remove whitespace characters from the start or end\n",
    "\n",
    "Example is below\n",
    "\n",
    "'''"
   ]
  },
  {
   "cell_type": "code",
   "execution_count": 51,
   "id": "ea962af6",
   "metadata": {},
   "outputs": [],
   "source": [
    "string=\"  iNeuron FSDS     \""
   ]
  },
  {
   "cell_type": "code",
   "execution_count": 52,
   "id": "49d09798",
   "metadata": {},
   "outputs": [
    {
     "data": {
      "text/plain": [
       "'  iNeuron FSDS     '"
      ]
     },
     "execution_count": 52,
     "metadata": {},
     "output_type": "execute_result"
    }
   ],
   "source": [
    "string"
   ]
  },
  {
   "cell_type": "code",
   "execution_count": 53,
   "id": "82e9353a",
   "metadata": {},
   "outputs": [
    {
     "data": {
      "text/plain": [
       "'iNeuron FSDS'"
      ]
     },
     "execution_count": 53,
     "metadata": {},
     "output_type": "execute_result"
    }
   ],
   "source": [
    "string.strip()"
   ]
  },
  {
   "cell_type": "code",
   "execution_count": null,
   "id": "e6b67b3c",
   "metadata": {},
   "outputs": [],
   "source": []
  }
 ],
 "metadata": {
  "kernelspec": {
   "display_name": "Python 3 (ipykernel)",
   "language": "python",
   "name": "python3"
  },
  "language_info": {
   "codemirror_mode": {
    "name": "ipython",
    "version": 3
   },
   "file_extension": ".py",
   "mimetype": "text/x-python",
   "name": "python",
   "nbconvert_exporter": "python",
   "pygments_lexer": "ipython3",
   "version": "3.9.7"
  }
 },
 "nbformat": 4,
 "nbformat_minor": 5
}

{
 "cells": [
  {
   "cell_type": "code",
   "execution_count": null,
   "id": "c34a3b30",
   "metadata": {},
   "outputs": [],
   "source": [
    "'''\n",
    "1. What exactly is []?\n",
    "\n",
    "Ans: These are the square brackates, mostly used for creating 'List', but also can be used when indexing\n",
    "\n",
    "eg: \n",
    "list1=[1,2,3] <--- list\n",
    "list1[0] <--- indexing\n",
    "\n",
    "'''"
   ]
  },
  {
   "cell_type": "code",
   "execution_count": null,
   "id": "9637c285",
   "metadata": {},
   "outputs": [],
   "source": [
    "'''\n",
    "2. In a list of values stored in a variable called spam, how would you assign the value 'hello' as the third value? (Assume [2, 4, 6, 8, 10] are in spam.)\n",
    "Let's pretend the spam includes the list ['a', 'b', 'c', 'd'] for the next three queries.\n",
    "\n",
    "Ans:\n",
    "\n",
    "spam=['a', 'b', 'c', 'd']\n",
    "spam[2]='hello'\n",
    "\n",
    "output: ['a', 'b', 'hello', 'd']\n",
    "\n",
    "'''"
   ]
  },
  {
   "cell_type": "code",
   "execution_count": null,
   "id": "732ef2fa",
   "metadata": {},
   "outputs": [],
   "source": [
    "'''\n",
    "3. What is the value of spam[int(int('3' * 2) / 11)]?\n",
    "\n",
    "spam[int(int('3' * 2) / 11)]\n",
    "\n",
    "lets break it down:\n",
    "\n",
    "('3' * 2) = '66'\n",
    "int('3' * 2) = int '66' ==> 66\n",
    "66/11 = 3.0\n",
    "int(3.0) ==> 3\n",
    "\n",
    "spam[3]\n",
    "\n",
    "as spam=['a', 'b', 'c', 'd']\n",
    "\n",
    "!!!!!!!!! THE ANSWER IS 'd' !!!!!!!!!!\n",
    "\n",
    "\n",
    "\n",
    "\n",
    "'''"
   ]
  },
  {
   "cell_type": "code",
   "execution_count": null,
   "id": "5b029845",
   "metadata": {},
   "outputs": [],
   "source": [
    "'''\n",
    "4. What is the value of spam[-1]?\n",
    "\n",
    "ans: 'd'\n",
    "'''"
   ]
  },
  {
   "cell_type": "code",
   "execution_count": null,
   "id": "23124769",
   "metadata": {},
   "outputs": [],
   "source": [
    "'''\n",
    "5. What is the value of spam[:2]?\n",
    "\n",
    "Ans: \n",
    "['a', 'b']\n",
    "\n",
    "'''"
   ]
  },
  {
   "cell_type": "markdown",
   "id": "a3863402",
   "metadata": {},
   "source": [
    "Let's pretend bacon has the list [3.14, 'cat,' 11, 'cat,' True] for the next three questions."
   ]
  },
  {
   "cell_type": "code",
   "execution_count": null,
   "id": "d6ca58b5",
   "metadata": {},
   "outputs": [],
   "source": [
    "'''\n",
    "6. What is the value of bacon.index('cat')?\n",
    "\n",
    "Ans:\n",
    "\n",
    "1 (as it return on first occurance)\n",
    "\n",
    "'''"
   ]
  },
  {
   "cell_type": "code",
   "execution_count": null,
   "id": "d7c53d22",
   "metadata": {},
   "outputs": [],
   "source": [
    "'''\n",
    "7. How does bacon.append(99) change the look of the list value in bacon?\n",
    "\n",
    "Ans: \n",
    ".append() will add element in the list, however in above case it has added '99' in existing list\n",
    "\n",
    "Output: [3.14, 'cat', 11, 'cat', True, 99]\n",
    "\n",
    "\n",
    "'''"
   ]
  },
  {
   "cell_type": "code",
   "execution_count": null,
   "id": "b0e4c60b",
   "metadata": {},
   "outputs": [],
   "source": [
    "'''\n",
    "8. How does bacon.remove('cat') change the look of the list in bacon?\n",
    "\n",
    "Output:\n",
    "[3.14, 11, 'cat', True]\n",
    "\n",
    "\n",
    "'''"
   ]
  },
  {
   "cell_type": "code",
   "execution_count": null,
   "id": "5fa6216e",
   "metadata": {},
   "outputs": [],
   "source": [
    "'''\n",
    "9. What are the list concatenation and list replication operators?\n",
    "Ans:\n",
    "\n",
    "The operator for list concatenation is '+'\n",
    "& the operator for list replication is '*'\n",
    "'''"
   ]
  },
  {
   "cell_type": "code",
   "execution_count": null,
   "id": "0284404d",
   "metadata": {},
   "outputs": [],
   "source": [
    "'''\n",
    "10. What is difference between the list methods append() and insert()?\n",
    "\n",
    "Ans:\n",
    "append() method can add values in the list 'at the end'\n",
    "eg:\n",
    "l=[1,2,3]\n",
    "l.append(4)\n",
    "Output: [1, 2, 3, 4]\n",
    "\n",
    "insert() method can add values in the list at any place\n",
    "eg:\n",
    "l=[1,2,3]\n",
    "l.insert(1,3)\n",
    "Output: [1, 3, 2, 3]\n",
    "\n",
    "'''"
   ]
  },
  {
   "cell_type": "code",
   "execution_count": null,
   "id": "79b7e9f5",
   "metadata": {},
   "outputs": [],
   "source": [
    "'''\n",
    "11. What are the two methods for removing items from a list?\n",
    "\n",
    "Ans:\n",
    "1) .pop()   <---- This will take index as an argument\n",
    "2) .remove() <---- This will take value as an argument\n",
    "\n",
    "'''"
   ]
  },
  {
   "cell_type": "code",
   "execution_count": null,
   "id": "937d9e35",
   "metadata": {},
   "outputs": [],
   "source": [
    "'''\n",
    "12. Describe how list values and string values are identical.\n",
    "Ans:\n",
    "index operations are possible in both list and string\n",
    "\n",
    "\n",
    "'''"
   ]
  },
  {
   "cell_type": "code",
   "execution_count": null,
   "id": "e84b4c9e",
   "metadata": {},
   "outputs": [],
   "source": [
    "'''\n",
    "13. What's the difference between tuples and lists?\n",
    "\n",
    "tuples as immutable\n",
    "lists are mutable\n",
    "\n",
    "values in tuples are enclosed in parenthesis\n",
    "values in lists are enclosed in square brackate\n",
    "\n",
    "\n",
    "'''"
   ]
  },
  {
   "cell_type": "code",
   "execution_count": null,
   "id": "18da75e2",
   "metadata": {},
   "outputs": [],
   "source": [
    "'''\n",
    "14. How do you type a tuple value that only contains the integer 42?\n",
    "\n",
    "Ans:\n",
    "(42,)\n",
    "\n",
    "'''"
   ]
  },
  {
   "cell_type": "code",
   "execution_count": null,
   "id": "0a9a4c14",
   "metadata": {},
   "outputs": [],
   "source": [
    "'''\n",
    "15. How do you get a list value's tuple form? How do you get a tuple value's list form?\n",
    "\n",
    "Ans:\n",
    "list value's tuple form  ==>  list((1,2,3))\n",
    "tuple value's list form  ==>  tuple([1,2,3])\n",
    "\n",
    "'''"
   ]
  },
  {
   "cell_type": "code",
   "execution_count": null,
   "id": "753c2e6f",
   "metadata": {},
   "outputs": [],
   "source": [
    "'''\n",
    "16. Variables that \"contain\" list values are not necessarily lists themselves. Instead, what do they contain?\n",
    "\n",
    "Ans:\n",
    "(did not get the question, while seaching for topic on google found below answer)\n",
    "They contain references to list values.\n",
    "\n",
    "\n",
    "'''"
   ]
  },
  {
   "cell_type": "code",
   "execution_count": null,
   "id": "6bcf8302",
   "metadata": {},
   "outputs": [],
   "source": [
    "'''\n",
    "17. How do you distinguish between copy.copy() and copy.deepcopy()?\n",
    "\n",
    "Ans:\n",
    "\n",
    "copy.copy() -->\n",
    "\n",
    "A shallow copy means constructing a new collection object and then populating it with references to the child objects \n",
    "found in the original. The copying process does not recurse and therefore won’t create copies of the child objects \n",
    "themselves. In case of shallow copy, a reference of object is copied in other object. It means that any changes made \n",
    "to a copy of object do reflect in the original object. In python, this is implemented using “copy()” function.\n",
    "\n",
    "\n",
    "copy.deepcopy() ->\n",
    "\n",
    "Deep copy is a process in which the copying process occurs recursively. It means first constructing a new collection \n",
    "object and then recursively populating it with copies of the child objects found in the original. \n",
    "In case of deep copy, a copy of object is copied in other object. It means that any changes made to a copy of object \n",
    "do not reflect in the original object. In python, this is implemented using “deepcopy()” function.\n",
    "'''"
   ]
  }
 ],
 "metadata": {
  "kernelspec": {
   "display_name": "Python 3 (ipykernel)",
   "language": "python",
   "name": "python3"
  },
  "language_info": {
   "codemirror_mode": {
    "name": "ipython",
    "version": 3
   },
   "file_extension": ".py",
   "mimetype": "text/x-python",
   "name": "python",
   "nbconvert_exporter": "python",
   "pygments_lexer": "ipython3",
   "version": "3.9.7"
  }
 },
 "nbformat": 4,
 "nbformat_minor": 5
}

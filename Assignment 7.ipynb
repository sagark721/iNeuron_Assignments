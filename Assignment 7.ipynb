{
 "cells": [
  {
   "cell_type": "code",
   "execution_count": null,
   "id": "048b2813",
   "metadata": {},
   "outputs": [],
   "source": [
    "'''\n",
    "1. What is the name of the feature responsible for generating Regex objects?\n",
    "\n",
    "Ans:\n",
    "re.compile() is responsible for generating Regex objects\n",
    "\n",
    "'''"
   ]
  },
  {
   "cell_type": "code",
   "execution_count": null,
   "id": "d5656947",
   "metadata": {},
   "outputs": [],
   "source": [
    "'''\n",
    "2. Why do raw strings often appear in Regex objects?\n",
    "\n",
    "Ans:\n",
    "\n",
    "So that backslashesh do not have to be escaped.\n",
    "\n",
    "\n",
    "\n",
    "'''"
   ]
  },
  {
   "cell_type": "code",
   "execution_count": null,
   "id": "824da8ea",
   "metadata": {},
   "outputs": [],
   "source": [
    "'''\n",
    "3. What is the return value of the search() method?\n",
    "\n",
    "Ans:\n",
    "\n",
    "search() method will return the match object\n",
    "\n",
    "'''"
   ]
  },
  {
   "cell_type": "code",
   "execution_count": null,
   "id": "a9b7e8a4",
   "metadata": {},
   "outputs": [],
   "source": [
    "'''\n",
    "4. From a Match item, how do you get the actual strings that match the pattern?\n",
    "\n",
    "Ans:\n",
    "\n",
    "group() methos will return the string that match the patterns.\n",
    "\n",
    "'''"
   ]
  },
  {
   "cell_type": "code",
   "execution_count": null,
   "id": "20bc6727",
   "metadata": {},
   "outputs": [],
   "source": [
    "'''\n",
    "5. In the regex which created from the r'(\\d\\d\\d)-(\\d\\d\\d-\\d\\d\\d\\d)', what does group zero cover? Group 2? Group 1?\n",
    "\n",
    "Ans:\n",
    "\n",
    "Group zero covers the entire match\n",
    "\n",
    "Group2 covers the second set of parenthesis\n",
    "\n",
    "and Group 1 covers the first set of parenthesis\n",
    "\n",
    "\n",
    "'''"
   ]
  },
  {
   "cell_type": "code",
   "execution_count": null,
   "id": "30b68c01",
   "metadata": {},
   "outputs": [],
   "source": [
    "'''\n",
    "6. In standard expression syntax, parentheses and intervals have distinct meanings. How can you tell a regex that you want it to fit real parentheses and periods?\n",
    "\n",
    "Ans:\n",
    "\n",
    "with the help of backslash: \\.,\\(, and \\).\n",
    "\n",
    "'''"
   ]
  },
  {
   "cell_type": "code",
   "execution_count": null,
   "id": "be723d18",
   "metadata": {},
   "outputs": [],
   "source": [
    "'''\n",
    "7. The findall() method returns a string list or a list of string tuples. What causes it to return one of the two options?\n",
    "\n",
    "Ans:\n",
    "\n",
    "if regex has no gropus a list of string is return otherwise list of tuples of string will be returned\n",
    "\n",
    "'''"
   ]
  },
  {
   "cell_type": "code",
   "execution_count": null,
   "id": "582222e1",
   "metadata": {},
   "outputs": [],
   "source": [
    "'''\n",
    "8. In standard expressions, what does the | character mean?\n",
    "\n",
    "Ans:\n",
    " | character will signify matching 'either,or' between two groups\n",
    "\n",
    "'''"
   ]
  },
  {
   "cell_type": "code",
   "execution_count": null,
   "id": "092ee443",
   "metadata": {},
   "outputs": [],
   "source": [
    "'''\n",
    "9. In regular expressions, what does the character stand for?\n",
    "\n",
    "Incomplete Question\n",
    "\n",
    "\n",
    "'''"
   ]
  },
  {
   "cell_type": "code",
   "execution_count": null,
   "id": "f36a0a66",
   "metadata": {},
   "outputs": [],
   "source": [
    "'''\n",
    "10.In regular expressions, what is the difference between the + and * characters?\n",
    "\n",
    "Ans:\n",
    "\n",
    "+ matches one or more\n",
    "* matches zero or more\n",
    "\n",
    "'''"
   ]
  },
  {
   "cell_type": "code",
   "execution_count": null,
   "id": "608014e6",
   "metadata": {},
   "outputs": [],
   "source": [
    "'''\n",
    "11. What is the difference between {4} and {4,5} in regular expression?\n",
    "\n",
    "Ans:\n",
    "{4} mstches the exactly 4 instances of the preceding group\n",
    "{4,5} matches between 4 and 5 instances of the preceding group\n",
    "\n",
    "'''"
   ]
  },
  {
   "cell_type": "code",
   "execution_count": null,
   "id": "2ccb1bc9",
   "metadata": {},
   "outputs": [],
   "source": [
    "'''\n",
    "12. What do you mean by the \\d, \\w, and \\s shorthand character classes signify in regular expressions?\n",
    "\n",
    "Ans:\n",
    "\n",
    "\\d will match a single digit\n",
    "\\w will match a single word\n",
    "\\s will match space character\n",
    "\n",
    "\n",
    "'''"
   ]
  },
  {
   "cell_type": "code",
   "execution_count": null,
   "id": "10f2db8b",
   "metadata": {},
   "outputs": [],
   "source": [
    "'''\n",
    "13. What do means by \\D, \\W, and \\S shorthand character classes signify in regular expressions?\n",
    "\n",
    "\\D will match a character that is Not a single digit\n",
    "\\W will match a character that is Not a single word\n",
    "\\S will match a character that is Not a space character\n",
    "\n",
    "\n",
    "\n",
    "'''"
   ]
  },
  {
   "cell_type": "code",
   "execution_count": null,
   "id": "4f41f230",
   "metadata": {},
   "outputs": [],
   "source": [
    "'''\n",
    "14. What is the difference between .*? and .*?\n",
    "\n",
    "**Did not get the Question**\n",
    "\n",
    "'''"
   ]
  },
  {
   "cell_type": "code",
   "execution_count": null,
   "id": "2bab235e",
   "metadata": {},
   "outputs": [],
   "source": [
    "'''\n",
    "15. What is the syntax for matching both numbers and lowercase letters with a character class?\n",
    "\n",
    "Ans:\n",
    "\n",
    "[0-9a-z] or [a-z0-9]\n",
    "\n",
    "'''"
   ]
  },
  {
   "cell_type": "code",
   "execution_count": null,
   "id": "2eddd82c",
   "metadata": {},
   "outputs": [],
   "source": [
    "'''\n",
    "16. What is the procedure for making a normal expression in regax case insensitive?\n",
    "\n",
    "Ans:\n",
    "by passing re.IGONRECASE as 2nd argument in re.complie()\n",
    "\n",
    "'''"
   ]
  },
  {
   "cell_type": "code",
   "execution_count": null,
   "id": "ebd8fc1a",
   "metadata": {},
   "outputs": [],
   "source": [
    "'''\n",
    "17. What does the . character normally match? What does it match if re.DOTALL is passed as 2nd argument in re.compile()?\n",
    "\n",
    "Ans:\n",
    "\n",
    ". character matches any character except newline character\n",
    "but if  re.DOTALL is passed as 2nd argument in re.compile() then dot will also match Newline character\n",
    "\n",
    "'''"
   ]
  },
  {
   "cell_type": "code",
   "execution_count": null,
   "id": "692204ef",
   "metadata": {},
   "outputs": [],
   "source": [
    "'''\n",
    "18. If numReg = re.compile(r'\\d+'), what will numRegex.sub('X', '11 drummers, 10 pipers, five rings, 4 hen') return?\n",
    "\n",
    "Ans:\n",
    "\n",
    "'X drummers, X pipers, five rings, X hen'\n",
    "\n",
    "'''"
   ]
  },
  {
   "cell_type": "code",
   "execution_count": null,
   "id": "5a6ab9ec",
   "metadata": {},
   "outputs": [],
   "source": [
    "'''\n",
    "19. What does passing re.VERBOSE as the 2nd argument to re.compile() allow to do?\n",
    "\n",
    "Ans:\n",
    "\n",
    "It allows to add whitespace and comments to the string passed to re.complie()\n",
    "\n",
    "\n",
    "'''"
   ]
  },
  {
   "cell_type": "code",
   "execution_count": null,
   "id": "836b6ac1",
   "metadata": {},
   "outputs": [],
   "source": [
    "'''\n",
    "20. How would you write a regex that match a number with comma for every three digits? It must match the given following:\n",
    "'42'\n",
    "'1,234'\n",
    "'6,368,745'\n",
    "but not the following:\n",
    "'12,34,567' (which has only two digits between the commas)\n",
    "'1234' (which lacks commas)\n",
    "\n",
    "Ans:\n",
    "\n",
    "re.compile(r'^\\d{1,3}(,\\d{3})*$')\n",
    "\n",
    "***Example is given below***\n",
    "\n",
    "'''"
   ]
  },
  {
   "cell_type": "code",
   "execution_count": 15,
   "id": "51d47831",
   "metadata": {},
   "outputs": [
    {
     "name": "stdout",
     "output_type": "stream",
     "text": [
      "42 is Matched\n",
      "1,234 is Matched\n",
      "6,368,745 is Matched\n",
      "12,34,567 Does Not Matched\n",
      "1234 Does Not Matched\n"
     ]
    }
   ],
   "source": [
    "nums=['42','1,234','6,368,745','12,34,567','1234']\n",
    "\n",
    "\n",
    "regex_nums=re.compile(r'^\\d{1,3}(,\\d{3})*$')\n",
    "\n",
    "\n",
    "for i in range(len(nums)):\n",
    "    res = regex_nums.search(nums[i])    \n",
    "    if res: \n",
    "        print(\"{} is Matched\".format(nums[i]))\n",
    "    else: \n",
    "        print(\"{} Does Not Matched\".format(nums[i]))"
   ]
  },
  {
   "cell_type": "code",
   "execution_count": null,
   "id": "b7d03b1f",
   "metadata": {},
   "outputs": [],
   "source": [
    "'''\n",
    "21. How would you write a regex that matches the full name of someone whose last name is Watanabe? You can assume that the first name that comes before it will always be one word that begins with a capital letter. The regex must match the following:\n",
    "'Haruto Watanabe'\n",
    "'Alice Watanabe'\n",
    "'RoboCop Watanabe'\n",
    "but not the following:\n",
    "'haruto Watanabe' (where the first name is not capitalized)\n",
    "'Mr. Watanabe' (where the preceding word has a nonletter character)\n",
    "'Watanabe' (which has no first name)\n",
    "'Haruto watanabe' (where Watanabe is not capitalized)\n",
    "\n",
    "\n",
    "Ans:\n",
    "\n",
    "re.complie(r'[A-Z][a-z]*\\sWatanabe')\n",
    "\n",
    "***Example is given below***\n",
    "'''"
   ]
  },
  {
   "cell_type": "code",
   "execution_count": 9,
   "id": "20ea2051",
   "metadata": {},
   "outputs": [
    {
     "name": "stdout",
     "output_type": "stream",
     "text": [
      "Haruto Watanabe is Valid\n",
      "Alice Watanabe is Valid\n",
      "RoboCop Watanabe is Valid\n",
      "haruto Watanabe is Invalid\n",
      "Mr. Watanabe is Invalid\n",
      "Watanabe is Invalid\n",
      "Haruto watanabe is Invalid\n"
     ]
    }
   ],
   "source": [
    "names=['Haruto Watanabe','Alice Watanabe','RoboCop Watanabe','haruto Watanabe','Mr. Watanabe','Watanabe','Haruto watanabe']\n",
    "\n",
    "\n",
    "regex_name=re.compile(r'[A-Z][a-z]*\\sWatanabe')\n",
    "\n",
    "\n",
    "for i in range(len(names)):\n",
    "    res = regex_name.search(names[i])    \n",
    "    if res: \n",
    "        print(\"{} is Valid\".format(names[i]))\n",
    "    else: \n",
    "        print(\"{} is Invalid\".format(names[i]))"
   ]
  },
  {
   "cell_type": "code",
   "execution_count": null,
   "id": "ac87d91c",
   "metadata": {},
   "outputs": [],
   "source": [
    "'''\n",
    "22. How would you write a regex that matches a sentence where the first word is either Alice, Bob, or Carol; the second word is either eats, pets, or throws; the third word is apples, cats, or baseballs; and the sentence ends with a period? This regex should be case-insensitive. It must match the following:\n",
    "'Alice eats apples.'\n",
    "'Bob pets cats.'\n",
    "'Carol throws baseballs.'\n",
    "'Alice throws Apples.'\n",
    "'BOB EATS CATS.'\n",
    "but not the following:\n",
    "'RoboCop eats apples.'\n",
    "'ALICE THROWS FOOTBALLS.'\n",
    "'Carol eats 7 cats.'\n",
    "\n",
    "\n",
    "Ans:\n",
    "\n",
    "re.compile(r'(Alice|Bob|Carol)\\s(eats\\pets\\thows)\\s(apples|cats|baseballs)\\.',re.IGNORECASE)\n",
    "\n",
    "***Example is given below***\n",
    "'''"
   ]
  },
  {
   "cell_type": "code",
   "execution_count": 14,
   "id": "23fbd8e0",
   "metadata": {},
   "outputs": [
    {
     "name": "stdout",
     "output_type": "stream",
     "text": [
      "Alice eats apples. is Matched\n",
      "Bob pets cats. is Matched\n",
      "Carol throws baseballs. is Matched\n",
      "Alice throws Apples. is Matched\n",
      "BOB EATS CATS. is Matched\n",
      "RoboCop eats apples. Does Not Matched\n",
      "ALICE THROWS FOOTBALLS. Does Not Matched\n",
      "Carol eats 7 cats. Does Not Matched\n"
     ]
    }
   ],
   "source": [
    "Sentences=['Alice eats apples.','Bob pets cats.','Carol throws baseballs.','Alice throws Apples.','BOB EATS CATS.','RoboCop eats apples.','ALICE THROWS FOOTBALLS.','Carol eats 7 cats.']\n",
    "\n",
    "\n",
    "regex_sens=re.compile(r'(Alice|Bob|Carol)\\s(eats|pets|throws)\\s(apples|cats|baseballs)\\.', re.IGNORECASE)\n",
    "\n",
    "\n",
    "for i in range(len(Sentences)):\n",
    "    res = regex_sens.search(Sentences[i])    \n",
    "    if res: \n",
    "        print(\"{} is Matched\".format(Sentences[i]))\n",
    "    else: \n",
    "        print(\"{} Does Not Matched\".format(Sentences[i]))\n",
    "\n"
   ]
  },
  {
   "cell_type": "code",
   "execution_count": null,
   "id": "787b4f60",
   "metadata": {},
   "outputs": [],
   "source": []
  }
 ],
 "metadata": {
  "kernelspec": {
   "display_name": "Python 3 (ipykernel)",
   "language": "python",
   "name": "python3"
  },
  "language_info": {
   "codemirror_mode": {
    "name": "ipython",
    "version": 3
   },
   "file_extension": ".py",
   "mimetype": "text/x-python",
   "name": "python",
   "nbconvert_exporter": "python",
   "pygments_lexer": "ipython3",
   "version": "3.9.7"
  }
 },
 "nbformat": 4,
 "nbformat_minor": 5
}

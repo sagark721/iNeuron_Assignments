{
 "cells": [
  {
   "cell_type": "code",
   "execution_count": null,
   "id": "5b35419e",
   "metadata": {},
   "outputs": [],
   "source": [
    "'''\n",
    "Q1.What are the two values of the Boolean data type? How do you write them?\n",
    "\n",
    "A1. Two values of the Boolean data type are as follows:\n",
    "'True' and 'False'\n",
    "\n",
    "To write 'True', 'T' should be capital and To write 'False', 'F' should be capital. \n"
   ]
  },
  {
   "cell_type": "code",
   "execution_count": null,
   "id": "8105d6c1",
   "metadata": {},
   "outputs": [],
   "source": [
    "'''\n",
    "Q2. What are the three different types of Boolean operators?\n",
    "\n",
    "A2. The three different types of Boolean operators as follows:\n",
    "1. AND\n",
    "2. OR\n",
    "3. NOT"
   ]
  },
  {
   "cell_type": "code",
   "execution_count": null,
   "id": "d38876f8",
   "metadata": {},
   "outputs": [],
   "source": [
    "'''\n",
    "Q3. Make a list of each Boolean operator's truth tables (i.e. every possible combination of Boolean values for the operator and what it evaluate ).\n",
    "\n",
    "A3.\n",
    "\n",
    "--- Truth Table of AND Operator ---\n",
    "\n",
    "True AND True = True\n",
    "True AND False = False\n",
    "False AND True = False\n",
    "False AND False = False\n",
    "\n",
    "--- Truth table for OR Operator ---\n",
    "\n",
    "True OR True = True\n",
    "True OR False = True\n",
    "False OR True = True\n",
    "False OR False = False\n",
    "\n",
    "--- Truth table for NOT Operator ---\n",
    "\n",
    "NOT True = False\n",
    "NOT False = True"
   ]
  },
  {
   "cell_type": "code",
   "execution_count": null,
   "id": "5bea52fa",
   "metadata": {},
   "outputs": [],
   "source": [
    "'''\n",
    "Q4. What are the values of the following expressions?\n",
    "(5 > 4) and (3 == 5)\n",
    "not (5 > 4)\n",
    "(5 > 4) or (3 == 5)\n",
    "not ((5 > 4) or (3 == 5))\n",
    "(True and True) and (True == False)\n",
    "(not False) or (not True)\n",
    "\n",
    "A4. \n",
    "\n",
    "(5 > 4) and (3 == 5) |----------------------------------> False\n",
    "not (5 > 4) |-------------------------------------------> False\n",
    "(5 > 4) or (3 == 5) |-----------------------------------> True\n",
    "not ((5 > 4) or (3 == 5)) |-----------------------------> False\n",
    "(True and True) and (True == False) |-------------------> False\n",
    "(not False) or (not True) |-----------------------------> True"
   ]
  },
  {
   "cell_type": "code",
   "execution_count": null,
   "id": "61ce3ef1",
   "metadata": {},
   "outputs": [],
   "source": [
    "'''\n",
    "Q5. What are the six comparison operators?\n",
    "\n",
    "A5. The six comparison operators are as follows:\n",
    "1. ==  : Equal to\n",
    "2. !=  : Not Equal to\n",
    "3. >   : Greater than\n",
    "4. >=  : Greater than or Equal to\n",
    "5. <   : Less than\n",
    "6. <=  : Less than or Equal to"
   ]
  },
  {
   "cell_type": "code",
   "execution_count": null,
   "id": "d4a7c46a",
   "metadata": {},
   "outputs": [],
   "source": [
    "'''\n",
    "Q6. How do you tell the difference between the equal to and assignment operators?Describe a condition and when you would use one.\n",
    "\n",
    "A6. Equal to operators (i.e '==') is used to  compare the entity, it is basically a Comparison operator. Mostly gives the output in boolean form\n",
    "Eg. 3 == 3 (the output of this would be 'True')\n",
    "\n",
    "whereas assignment operators (i.e '=') is used to assign value to variables.\n",
    "\n",
    "Eg. 'iNeuron' = 121 (here, 121 will be assigned to variable name 'iNeuron')"
   ]
  },
  {
   "cell_type": "code",
   "execution_count": 21,
   "id": "53004bca",
   "metadata": {},
   "outputs": [
    {
     "name": "stdout",
     "output_type": "stream",
     "text": [
      "ham \n",
      "spam \n",
      "spam\n"
     ]
    }
   ],
   "source": [
    "'''\n",
    "Q7. Identify the three blocks in this code:\n",
    "spam = 0\n",
    "if spam == 10:\n",
    "print('eggs')\n",
    "if spam > 5:\n",
    "print('bacon')\n",
    "else:\n",
    "print('ham')\n",
    "print('spam')\n",
    "print('spam')\n",
    "\n",
    "A7. \n",
    "1.There should be indentation before 1. print('eggs') 2. print('bacon') & 3. print('ham')\n",
    "2.'elif' shoud be used for 'spam > 5' condition (Otherwise when spam =10 both 'eggs' and 'bacon' will be printed )\n",
    "3. else statement could be printed in one line using '\\n'\n",
    "'''\n",
    "#eg.\n",
    "spam = 0\n",
    "if spam == 10:\n",
    "    print('eggs')\n",
    "elif spam > 5:\n",
    "    print('bacon')\n",
    "else:\n",
    "    print('ham \\nspam \\nspam')\n",
    "    \n"
   ]
  },
  {
   "cell_type": "code",
   "execution_count": 20,
   "id": "c4848e32",
   "metadata": {},
   "outputs": [
    {
     "name": "stdout",
     "output_type": "stream",
     "text": [
      "3\n",
      "Greetings!\n"
     ]
    }
   ],
   "source": [
    "'''\n",
    "Q8. Write code that prints Hello if 1 is stored in spam, prints Howdy if 2 is stored in spam, and prints Greetings! if anything else is stored in spam.\n",
    "'''\n",
    "#A8.\n",
    "\n",
    "spam = input()\n",
    "\n",
    "if spam == str(1):\n",
    "    print('Hello')\n",
    "elif spam == str(2):\n",
    "    print('Howdy')\n",
    "else:\n",
    "    print('Greetings!')"
   ]
  },
  {
   "cell_type": "code",
   "execution_count": null,
   "id": "952f5dc9",
   "metadata": {},
   "outputs": [],
   "source": [
    "'''\n",
    "Q9.If your programme is stuck in an endless loop, what keys you’ll press?\n",
    "\n",
    "A9: There is Solid Square button to Interrupt the kernal & Restart the kernal. Also 'Ctrl+C' may work.\n",
    "\n"
   ]
  },
  {
   "cell_type": "code",
   "execution_count": 17,
   "id": "03578806",
   "metadata": {},
   "outputs": [
    {
     "name": "stdout",
     "output_type": "stream",
     "text": [
      "i\n",
      "N\n",
      "e\n",
      "End Using \"break\"\n",
      "\n",
      "\n",
      "i\n",
      "N\n",
      "e\n",
      "u\n",
      "r\n",
      "o\n",
      "n\n",
      "End Using \"continue\"\n"
     ]
    }
   ],
   "source": [
    "\n",
    "#Q10. How can you tell the difference between break and continue?\n",
    "\n",
    "#A10.'break' will exit the loop if the condition is satisfied, whereas 'continue' will continue to iterate without exiting the loop\n",
    "\n",
    "#Example of break:\n",
    "\n",
    "\n",
    "for i in \"iNeauron\":\n",
    "    if i == 'a':\n",
    "        break\n",
    "    print(i)\n",
    "    \n",
    "print('End Using \"break\"')\n",
    "print('\\n')\n",
    "    \n",
    "    \n",
    "#Example of continue:\n",
    "\n",
    "for i in \"iNeauron\":\n",
    "    if i == 'a':\n",
    "        continue\n",
    "    print(i)\n",
    "    \n",
    "print('End Using \"continue\"')\n",
    "\n",
    "    \n",
    "\n",
    "#In above examples, Output using 'break' would be:\n",
    "\n",
    "\n",
    "#i\n",
    "#N\n",
    "#e\n",
    "\n",
    "#& Output using 'continue' would be:\n",
    "\n",
    "#i\n",
    "#N\n",
    "#e\n",
    "#u\n",
    "#r\n",
    "#o\n",
    "#n\n",
    "\n",
    "###"
   ]
  },
  {
   "cell_type": "code",
   "execution_count": null,
   "id": "91ecd555",
   "metadata": {},
   "outputs": [],
   "source": [
    "'''\n",
    "Q11. In a for loop, what is the difference between range(10), range(0, 10), and range(0, 10, 1)?\n",
    "\n",
    "A11. The Output of all three i.e range(10), range(0, 10), and range(0, 10, 1) would be the same. There is no difference as such\n",
    "\n",
    "\n",
    "range(10) would return the values starting from 0 upto but excluding 10\n",
    "range(0,10) here we can give start point\n",
    "range(0,10,1) here along with start and stop points we can give step size also\n",
    "\n",
    "'''"
   ]
  },
  {
   "cell_type": "code",
   "execution_count": 6,
   "id": "ebfef14e",
   "metadata": {},
   "outputs": [
    {
     "name": "stdout",
     "output_type": "stream",
     "text": [
      "using 'for loop'\n",
      "1\n",
      "2\n",
      "3\n",
      "4\n",
      "5\n",
      "6\n",
      "7\n",
      "8\n",
      "9\n",
      "10\n",
      "\n",
      "using 'while loop'\n",
      "1\n",
      "2\n",
      "3\n",
      "4\n",
      "5\n",
      "6\n",
      "7\n",
      "8\n",
      "9\n",
      "10\n"
     ]
    }
   ],
   "source": [
    "'''\n",
    "Q12. Write a short program that prints the numbers 1 to 10 using a for loop. Then write an equivalent program that prints the numbers 1 to 10 using a while loop.\n",
    "\n",
    "'''\n",
    "print(\"using 'for loop'\")\n",
    "\n",
    "for i in range(1,11):\n",
    "    print(i)\n",
    "    \n",
    "print(\"\\nusing 'while loop'\")\n",
    "\n",
    "a=1\n",
    "\n",
    "while a<=10:\n",
    "    print(a)\n",
    "    a +=1"
   ]
  },
  {
   "cell_type": "code",
   "execution_count": null,
   "id": "d22a0f63",
   "metadata": {},
   "outputs": [],
   "source": [
    "'''\n",
    "Q13. If you had a function named bacon() inside a module named spam, how would you call it after importing spam?\n",
    "\n",
    "A13. spam.bacon()\n"
   ]
  },
  {
   "cell_type": "code",
   "execution_count": null,
   "id": "89d7dc6f",
   "metadata": {},
   "outputs": [],
   "source": []
  }
 ],
 "metadata": {
  "kernelspec": {
   "display_name": "Python 3 (ipykernel)",
   "language": "python",
   "name": "python3"
  },
  "language_info": {
   "codemirror_mode": {
    "name": "ipython",
    "version": 3
   },
   "file_extension": ".py",
   "mimetype": "text/x-python",
   "name": "python",
   "nbconvert_exporter": "python",
   "pygments_lexer": "ipython3",
   "version": "3.9.7"
  }
 },
 "nbformat": 4,
 "nbformat_minor": 5
}

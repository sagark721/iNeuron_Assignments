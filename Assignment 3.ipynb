{
 "cells": [
  {
   "cell_type": "code",
   "execution_count": null,
   "id": "f48efe03",
   "metadata": {},
   "outputs": [],
   "source": [
    "'''\n",
    "Q1. Why are functions advantageous to have in your programs?\n",
    "\n",
    "Ans: \n",
    "a. Function helps to avoid repetation of codes (or logics). if there is requirement of same logic for different variables. \n",
    "b. increases readability.\n",
    "c. shortens the length of code.\n",
    "\n",
    "'''"
   ]
  },
  {
   "cell_type": "code",
   "execution_count": null,
   "id": "8935ad85",
   "metadata": {},
   "outputs": [],
   "source": [
    "'''\n",
    "Q2. When does the code in a function run: when it's specified or when it's called?\n",
    "\n",
    "Ans: \n",
    "The code in function run when the input as required by function is provied.\n",
    "also, when calling the function the function name following (if) required variables in parenthesis should be used\n",
    "\n",
    "'''"
   ]
  },
  {
   "cell_type": "code",
   "execution_count": null,
   "id": "4cdd23df",
   "metadata": {},
   "outputs": [],
   "source": [
    "'''\n",
    "Q3. What statement creates a function?\n",
    "\n",
    "Ans:\n",
    "'def'  statement creates function\n",
    "eg:\n",
    " def mul(a,b):\n",
    "     return a*b\n",
    "     \n",
    "this will return multiplication of 2 varibales \n",
    "eg. Output of 'mul(2,3)' would be '6'\n",
    "\n",
    "'''"
   ]
  },
  {
   "cell_type": "code",
   "execution_count": null,
   "id": "603c290b",
   "metadata": {},
   "outputs": [],
   "source": [
    "'''\n",
    "Q4. What is the difference between a function and a function call?\n",
    "Ans:\n",
    "\n",
    "Function: function is the set of code which is used to avoid repeation of code or logic when it is to use with different variables\n",
    "eg:  def mul(a,b):\n",
    "         return a*b\n",
    "         \n",
    "Function call: It is the procedure to call the predefined function. when calling function, we provide variables as and when required\n",
    "eg: mul(2,6)\n",
    "\n",
    "'''"
   ]
  },
  {
   "cell_type": "code",
   "execution_count": null,
   "id": "2d4027c9",
   "metadata": {},
   "outputs": [],
   "source": [
    "'''\n",
    "5. How many global scopes are there in a Python program? How many local scopes?\n",
    "\n",
    "Ans:\n",
    "There is only one global Python scope per program execution. there could be 'n' number of local of scopes depending upon the number of functions\n",
    "\n",
    "'''"
   ]
  },
  {
   "cell_type": "code",
   "execution_count": null,
   "id": "56d9102c",
   "metadata": {},
   "outputs": [],
   "source": [
    "'''\n",
    "6. What happens to variables in a local scope when the function call returns?\n",
    "\n",
    "Ans:\n",
    "When the function call returns, the local scope is destroyed and the variable names are forgotten.\n",
    "\n",
    "'''"
   ]
  },
  {
   "cell_type": "code",
   "execution_count": null,
   "id": "f13c9c6d",
   "metadata": {},
   "outputs": [],
   "source": [
    "'''\n",
    "7. What is the concept of a return value? Is it possible to have a return value in an expression?\n",
    "\n",
    "Ans:\n",
    "return value returns the output of expression. return value only works when used in function. so, if the expression is in function then the return value can have in expression to get output of expression\n",
    "\n",
    "'''"
   ]
  },
  {
   "cell_type": "code",
   "execution_count": null,
   "id": "8df702c1",
   "metadata": {},
   "outputs": [],
   "source": [
    "'''\n",
    "8. If a function does not have a return statement, what is the return value of a call to that function?\n",
    "\n",
    "Ans:\n",
    "There will be no output \n",
    "'''"
   ]
  },
  {
   "cell_type": "code",
   "execution_count": 2,
   "id": "b5c2d795",
   "metadata": {},
   "outputs": [],
   "source": [
    "'''\n",
    "9. How do you make a function variable refer to the global variable?\n",
    "\n",
    "Ans:\n",
    "By using 'global' keyword a function variable can be refered to global variable\n",
    "'''"
   ]
  },
  {
   "cell_type": "code",
   "execution_count": null,
   "id": "d6785e41",
   "metadata": {},
   "outputs": [],
   "source": [
    "'''\n",
    "10. What is the data type of None?\n",
    "\n",
    "Ans: \n",
    "data type of None is 'Nonetype'\n",
    "\n",
    "'''\n"
   ]
  },
  {
   "cell_type": "code",
   "execution_count": null,
   "id": "f243253b",
   "metadata": {},
   "outputs": [],
   "source": [
    "'''\n",
    "11. What does the sentence import areallyourpetsnamederic do?\n",
    "\n",
    "Ans:\n",
    "Ideally it should import module named 'areallyourpetsnamederic'\n",
    "\n",
    "but it is throwing below error,\n",
    "---------------------------------------------------------------------------\n",
    "ModuleNotFoundError                       Traceback (most recent call last)\n",
    "~\\AppData\\Local\\Temp/ipykernel_10536/51184242.py in <module>\n",
    "----> 1 import areallyourpetsnamederic\n",
    "\n",
    "ModuleNotFoundError: No module named 'areallyourpetsnamederic'\n",
    "\n",
    "'''"
   ]
  },
  {
   "cell_type": "code",
   "execution_count": null,
   "id": "b19b5ded",
   "metadata": {},
   "outputs": [],
   "source": [
    "'''\n",
    "12. If you had a bacon() feature in a spam module, what would you call it after importing spam?\n",
    "\n",
    "Ans:\n",
    "spam.bacon()\n",
    "\n",
    "'''"
   ]
  },
  {
   "cell_type": "code",
   "execution_count": null,
   "id": "49003de0",
   "metadata": {},
   "outputs": [],
   "source": [
    "'''\n",
    "13. What can you do to save a programme from crashing if it encounters an error?\n",
    "\n",
    "Ans:\n",
    "in a try clause we can write to check the code which can cause an error\n",
    "'''"
   ]
  },
  {
   "cell_type": "code",
   "execution_count": null,
   "id": "97e71a6c",
   "metadata": {},
   "outputs": [],
   "source": [
    "'''\n",
    "14. What is the purpose of the try clause? What is the purpose of the except clause?\n",
    "\n",
    "Ans:\n",
    "In the 'try clause', the code goes, that may cause an error.\n",
    "\n",
    "In the 'except clause', The code goes, that executes if an error happens.\n",
    "\n",
    "'''"
   ]
  }
 ],
 "metadata": {
  "kernelspec": {
   "display_name": "Python 3 (ipykernel)",
   "language": "python",
   "name": "python3"
  },
  "language_info": {
   "codemirror_mode": {
    "name": "ipython",
    "version": 3
   },
   "file_extension": ".py",
   "mimetype": "text/x-python",
   "name": "python",
   "nbconvert_exporter": "python",
   "pygments_lexer": "ipython3",
   "version": "3.9.7"
  }
 },
 "nbformat": 4,
 "nbformat_minor": 5
}

{
 "cells": [
  {
   "cell_type": "markdown",
   "id": "cd8051e3",
   "metadata": {},
   "source": [
    "### Preblem Statement :\n",
    "\n",
    "**- Create a function in python to read the text file and replace specific content of the file.**"
   ]
  },
  {
   "cell_type": "markdown",
   "id": "a05c6254",
   "metadata": {},
   "source": [
    "\n",
    "\n",
    "\n",
    "\n",
    "\n",
    "### Solution:"
   ]
  },
  {
   "cell_type": "code",
   "execution_count": 1,
   "id": "05f068fa",
   "metadata": {},
   "outputs": [],
   "source": [
    "#Creating new text file\n",
    "\n",
    "wfile=open(\"example.txt\",'w')\n",
    "wfile.write(\"This is a placement assignment\")\n",
    "wfile.close()"
   ]
  },
  {
   "cell_type": "code",
   "execution_count": 2,
   "id": "cf9b7950",
   "metadata": {},
   "outputs": [
    {
     "name": "stdout",
     "output_type": "stream",
     "text": [
      "This is a placement assignment\n"
     ]
    }
   ],
   "source": [
    "#Reading the above created file\n",
    "rfile=open(\"example.txt\",'r+')\n",
    "print(rfile.read())\n",
    "rfile.close()"
   ]
  },
  {
   "cell_type": "code",
   "execution_count": 3,
   "id": "74c6de93",
   "metadata": {},
   "outputs": [],
   "source": [
    "#Creating function\n",
    "\n",
    "def replacetext():\n",
    "    import logging  #import for log file\n",
    "    logging.basicConfig(filename=\"replacetext.log\",level=logging.INFO,format='%(levelname)s %(asctime)s %(message)s')\n",
    "    \n",
    "    logging.info(\"Function is called\")\n",
    "    \n",
    "    while True:\n",
    "        try: \n",
    "            input_file_name=input(\"Enter the file name\")  #getting file name\n",
    "            rfile=open(input_file_name,'r+') #opening file\n",
    "            rline=rfile.readlines() #reading lines in file\n",
    "            \n",
    "                        \n",
    "        except Exception as e:\n",
    "            print(\"Enter valid file name\",e)\n",
    "            \n",
    "            logging.exception(\"Exception occured \" +\"Invalid File name\"+ str(e))\n",
    "            \n",
    "            continue\n",
    "            \n",
    "        else:\n",
    "            rfile=open(input_file_name,'r+') #opening file\n",
    "            rline=rfile.readlines() #reading lines in file\n",
    "            break\n",
    "            \n",
    "        \n",
    "    \n",
    "    a=True\n",
    "    while a==True: #it will loop untill correct text 'to replace' is not entered\n",
    "        to_replace=input(\"Which text is to replace?\") #getting text to replace\n",
    "        for i in rline:\n",
    "            if to_replace not in i: #checking if text in file\n",
    "                a=True\n",
    "                print(\"Invalid input Entered text is not in file please enter correct text to replace\")\n",
    "                \n",
    "                logging.info(\"Invalid text entered to replace\")\n",
    "                \n",
    "            else:\n",
    "                a=False\n",
    "                replace_with=input(\"Which text is to replace with?\") #getting text to replace with\n",
    "                updatedline=i.replace(to_replace,replace_with) #replacing text\n",
    "                rfile.seek(0) #getting pointer at begining\n",
    "                rfile.writelines(updatedline) #updating lines\n",
    "                rfile.close() #closing file\n",
    "                \n",
    "                logging.info(\"Function executed successfully!\")\n",
    "            \n",
    "            \n",
    "        \n",
    "    "
   ]
  },
  {
   "cell_type": "code",
   "execution_count": 4,
   "id": "3293a6d3",
   "metadata": {},
   "outputs": [
    {
     "name": "stdout",
     "output_type": "stream",
     "text": [
      "Enter the file nameABC\n",
      "Enter valid file name [Errno 2] No such file or directory: 'ABC'\n",
      "Enter the file nameexample.txt\n",
      "Which text is to replace?lakjdjdfn\n",
      "Invalid input Entered text is not in file please enter correct text to replace\n",
      "Which text is to replace?placement\n",
      "Which text is to replace with?Screening\n"
     ]
    }
   ],
   "source": [
    "replacetext() #calling function"
   ]
  },
  {
   "cell_type": "code",
   "execution_count": 5,
   "id": "1cca66ec",
   "metadata": {},
   "outputs": [
    {
     "name": "stdout",
     "output_type": "stream",
     "text": [
      "This is a Screening assignment\n"
     ]
    }
   ],
   "source": [
    "rfile=open(\"example.txt\",'r+')\n",
    "print(rfile.read())\n",
    "rfile.close()"
   ]
  },
  {
   "cell_type": "markdown",
   "id": "63b6d840",
   "metadata": {},
   "source": [
    "------\n",
    "## Abstract Class:\n",
    "\n",
    "    A class which contains one or more Abstract method is called as an 'Abstract Class'. An abstract class is simply a \n",
    "    template for other classes. with the abstract class it becomes Compulsory to create certain methods in child class built from the abstract class. abstract methods have declarations but does not have implementation. if we want to provide \n",
    "    common interface for different implementation we use Abstract Class."
   ]
  },
  {
   "cell_type": "code",
   "execution_count": 6,
   "id": "e1090e99",
   "metadata": {},
   "outputs": [],
   "source": [
    "## Example of Abstract Class ##\n",
    "\n",
    "from abc import ABC,abstractmethod #importing required module\n",
    "\n",
    "class living_things(ABC): #creating abstract class (Parent)\n",
    "    \n",
    "    @abstractmethod #with the help of this decorator\n",
    "    def grow(self): #we are making this'grow' an Abstract Method\n",
    "        print(\"living_things can grow\")\n",
    "          \n",
    "    def breath(self):\n",
    "        print(\"living_things can breath\")\n",
    "    \n",
    "    \n",
    "class human(living_things): #child class 1\n",
    "    \n",
    "    def walk(self):\n",
    "        print(\"Humans are bipedal\")\n",
    "        \n",
    "    def grow(self): #abstract method which is compulsory to include\n",
    "        print(\"Humans can grow\")\n",
    "        \n",
    "class animals(living_things): #child class 2\n",
    "    \n",
    "    def walk(self):\n",
    "        print(\"most of the animals are quadrupedal\")\n",
    "        \n",
    "    def grow(self): #abstract method which is compulsory to include\n",
    "        print(\"Animals can grow\")"
   ]
  },
  {
   "cell_type": "code",
   "execution_count": 7,
   "id": "899e0232",
   "metadata": {},
   "outputs": [
    {
     "ename": "TypeError",
     "evalue": "Can't instantiate abstract class living_things with abstract method grow",
     "output_type": "error",
     "traceback": [
      "\u001b[1;31m---------------------------------------------------------------------------\u001b[0m",
      "\u001b[1;31mTypeError\u001b[0m                                 Traceback (most recent call last)",
      "\u001b[1;32m~\\AppData\\Local\\Temp/ipykernel_2396/3726703438.py\u001b[0m in \u001b[0;36m<module>\u001b[1;34m\u001b[0m\n\u001b[1;32m----> 1\u001b[1;33m \u001b[0mthing2\u001b[0m\u001b[1;33m=\u001b[0m\u001b[0mliving_things\u001b[0m\u001b[1;33m(\u001b[0m\u001b[1;33m)\u001b[0m\u001b[1;33m\u001b[0m\u001b[1;33m\u001b[0m\u001b[0m\n\u001b[0m",
      "\u001b[1;31mTypeError\u001b[0m: Can't instantiate abstract class living_things with abstract method grow"
     ]
    }
   ],
   "source": [
    "thing2=living_things()"
   ]
  },
  {
   "cell_type": "code",
   "execution_count": 8,
   "id": "699dbf48",
   "metadata": {},
   "outputs": [],
   "source": [
    "human2=human()"
   ]
  },
  {
   "cell_type": "code",
   "execution_count": 9,
   "id": "d312ec47",
   "metadata": {},
   "outputs": [
    {
     "name": "stdout",
     "output_type": "stream",
     "text": [
      "Humans can grow\n"
     ]
    }
   ],
   "source": [
    "human2.grow()"
   ]
  },
  {
   "cell_type": "code",
   "execution_count": 10,
   "id": "c42b22e9",
   "metadata": {},
   "outputs": [
    {
     "name": "stdout",
     "output_type": "stream",
     "text": [
      "Humans are bipedal\n"
     ]
    }
   ],
   "source": [
    "human2.walk()"
   ]
  },
  {
   "cell_type": "code",
   "execution_count": 11,
   "id": "8462581b",
   "metadata": {},
   "outputs": [
    {
     "name": "stdout",
     "output_type": "stream",
     "text": [
      "living_things can breath\n"
     ]
    }
   ],
   "source": [
    "human2.breath()"
   ]
  },
  {
   "cell_type": "code",
   "execution_count": 12,
   "id": "6f99d758",
   "metadata": {},
   "outputs": [],
   "source": [
    "animal2=animals()"
   ]
  },
  {
   "cell_type": "code",
   "execution_count": 13,
   "id": "ac66d4db",
   "metadata": {},
   "outputs": [
    {
     "name": "stdout",
     "output_type": "stream",
     "text": [
      "Animals can grow\n"
     ]
    }
   ],
   "source": [
    "animal2.grow()"
   ]
  },
  {
   "cell_type": "code",
   "execution_count": 14,
   "id": "83eeb42c",
   "metadata": {},
   "outputs": [
    {
     "name": "stdout",
     "output_type": "stream",
     "text": [
      "most of the animals are quadrupedal\n"
     ]
    }
   ],
   "source": [
    "animal2.walk()"
   ]
  },
  {
   "cell_type": "code",
   "execution_count": 15,
   "id": "372d0e48",
   "metadata": {},
   "outputs": [
    {
     "name": "stdout",
     "output_type": "stream",
     "text": [
      "living_things can breath\n"
     ]
    }
   ],
   "source": [
    "animal2.breath()"
   ]
  },
  {
   "cell_type": "code",
   "execution_count": null,
   "id": "24d1aa7b",
   "metadata": {},
   "outputs": [],
   "source": []
  },
  {
   "cell_type": "markdown",
   "id": "35e631c3",
   "metadata": {},
   "source": [
    "---------\n",
    "\n",
    "## Multiple Inheritance\n",
    "\n",
    "    Multiple Inheritance is nothing but deriving the class (child class) from more than one base classes (Parent class).\n",
    "    it helps in re-usablity of the code.It also provides transitivity i.e. if class B inherits from A then all the sub-classes of B would also inherit from A."
   ]
  },
  {
   "cell_type": "code",
   "execution_count": 16,
   "id": "fa233ed2",
   "metadata": {},
   "outputs": [],
   "source": [
    "## Example of Multiple Inheritance ##\n",
    "\n",
    "class living_things:\n",
    "    \n",
    "    def grow(self):\n",
    "        print(\"living_things can grow\")\n",
    "        \n",
    "    def breath(self):\n",
    "        print(\"living_things can breath\")\n",
    "        \n",
    "class human:\n",
    "    \n",
    "    def walk(self):\n",
    "        print(\"Humans can walk\")\n",
    "        \n",
    "class men(living_things,human):\n",
    "    \n",
    "    def talk(self):\n",
    "        print(\"men can talk\")\n",
    "        \n",
    "class women (men):\n",
    "    \n",
    "    def eat(self):\n",
    "        print(\"Women can eat\")\n",
    "    \n",
    "    "
   ]
  },
  {
   "cell_type": "code",
   "execution_count": 17,
   "id": "99aa3a06",
   "metadata": {},
   "outputs": [],
   "source": [
    "men1=men()"
   ]
  },
  {
   "cell_type": "code",
   "execution_count": 18,
   "id": "5dcd2e9b",
   "metadata": {},
   "outputs": [
    {
     "name": "stdout",
     "output_type": "stream",
     "text": [
      "living_things can breath\n"
     ]
    }
   ],
   "source": [
    "men1.breath() "
   ]
  },
  {
   "cell_type": "code",
   "execution_count": 19,
   "id": "87615bed",
   "metadata": {},
   "outputs": [
    {
     "name": "stdout",
     "output_type": "stream",
     "text": [
      "Humans can walk\n"
     ]
    }
   ],
   "source": [
    "men1.walk()"
   ]
  },
  {
   "cell_type": "code",
   "execution_count": 20,
   "id": "7c506b77",
   "metadata": {},
   "outputs": [
    {
     "name": "stdout",
     "output_type": "stream",
     "text": [
      "men can talk\n"
     ]
    }
   ],
   "source": [
    "men1.talk()"
   ]
  },
  {
   "cell_type": "code",
   "execution_count": 21,
   "id": "05441f31",
   "metadata": {},
   "outputs": [],
   "source": [
    "women1=women()"
   ]
  },
  {
   "cell_type": "code",
   "execution_count": 22,
   "id": "f0247994",
   "metadata": {},
   "outputs": [
    {
     "name": "stdout",
     "output_type": "stream",
     "text": [
      "living_things can breath\n"
     ]
    }
   ],
   "source": [
    "women1.breath() "
   ]
  },
  {
   "cell_type": "code",
   "execution_count": 23,
   "id": "a59e5046",
   "metadata": {},
   "outputs": [
    {
     "name": "stdout",
     "output_type": "stream",
     "text": [
      "Women can eat\n"
     ]
    }
   ],
   "source": [
    "women1.eat()"
   ]
  },
  {
   "cell_type": "code",
   "execution_count": null,
   "id": "9f011cb1",
   "metadata": {},
   "outputs": [],
   "source": []
  },
  {
   "cell_type": "markdown",
   "id": "64f28204",
   "metadata": {},
   "source": [
    "------\n",
    "\n",
    "## Decorator\n",
    "\n",
    "    with Decorators we can modify the behaviour of the function. \n",
    "    \n",
    "    In Decorators, functions are passed as an argument into another function and then called inside the wrapper function.\n",
    "    \n",
    "    Decorators allow us to wrap another function in order to extend the behaviour of the wrapped function, without permanently modifying it"
   ]
  },
  {
   "cell_type": "code",
   "execution_count": 24,
   "id": "1098cedf",
   "metadata": {},
   "outputs": [],
   "source": [
    "## Decorator Example ##\n",
    "\n",
    "#defining function to multiply 2 numbers\n",
    "\n",
    "def multiplication(x,y):\n",
    "    return x*y"
   ]
  },
  {
   "cell_type": "code",
   "execution_count": 25,
   "id": "8b8d0d02",
   "metadata": {},
   "outputs": [
    {
     "data": {
      "text/plain": [
       "15"
      ]
     },
     "execution_count": 25,
     "metadata": {},
     "output_type": "execute_result"
    }
   ],
   "source": [
    "#verifying\n",
    "multiplication(3,5)"
   ]
  },
  {
   "cell_type": "code",
   "execution_count": 26,
   "id": "10e8d398",
   "metadata": {},
   "outputs": [],
   "source": [
    "#function calling a 'multiplication' function to add 5 in output of 'multiplication' function\n",
    "\n",
    "def mulplusfive(func):\n",
    "    \n",
    "    def addfive():\n",
    "        return func + 5\n",
    "        \n",
    "    return addfive()"
   ]
  },
  {
   "cell_type": "code",
   "execution_count": 27,
   "id": "18fbc3ff",
   "metadata": {},
   "outputs": [],
   "source": [
    "ad=mulplusfive(multiplication(3,5))"
   ]
  },
  {
   "cell_type": "code",
   "execution_count": 28,
   "id": "1fa045fd",
   "metadata": {},
   "outputs": [
    {
     "data": {
      "text/plain": [
       "20"
      ]
     },
     "execution_count": 28,
     "metadata": {},
     "output_type": "execute_result"
    }
   ],
   "source": [
    "ad"
   ]
  },
  {
   "cell_type": "code",
   "execution_count": null,
   "id": "6c7aebde",
   "metadata": {},
   "outputs": [],
   "source": []
  },
  {
   "cell_type": "code",
   "execution_count": null,
   "id": "b0aa73e1",
   "metadata": {},
   "outputs": [],
   "source": []
  }
 ],
 "metadata": {
  "kernelspec": {
   "display_name": "Python 3 (ipykernel)",
   "language": "python",
   "name": "python3"
  },
  "language_info": {
   "codemirror_mode": {
    "name": "ipython",
    "version": 3
   },
   "file_extension": ".py",
   "mimetype": "text/x-python",
   "name": "python",
   "nbconvert_exporter": "python",
   "pygments_lexer": "ipython3",
   "version": "3.9.7"
  }
 },
 "nbformat": 4,
 "nbformat_minor": 5
}
